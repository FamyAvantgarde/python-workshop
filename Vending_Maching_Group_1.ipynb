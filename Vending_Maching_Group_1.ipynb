{
  "nbformat": 4,
  "nbformat_minor": 0,
  "metadata": {
    "colab": {
      "name": "Vending Maching - Group 1.ipynb",
      "provenance": [],
      "collapsed_sections": [],
      "include_colab_link": true
    },
    "kernelspec": {
      "display_name": "Python 3",
      "name": "python3"
    },
    "language_info": {
      "name": "python"
    }
  },
  "cells": [
    {
      "cell_type": "markdown",
      "metadata": {
        "id": "view-in-github",
        "colab_type": "text"
      },
      "source": [
        "<a href=\"https://colab.research.google.com/github/FamyAvantgarde/python-workshop/blob/add-license-1/Vending_Maching_Group_1.ipynb\" target=\"_parent\"><img src=\"https://colab.research.google.com/assets/colab-badge.svg\" alt=\"Open In Colab\"/></a>"
      ]
    },
    {
      "cell_type": "markdown",
      "metadata": {
        "id": "tlJWeCe_UfeC"
      },
      "source": [
        "### **Vending Machine with Python**"
      ]
    },
    {
      "cell_type": "code",
      "metadata": {
        "colab": {
          "base_uri": "https://localhost:8080/"
        },
        "id": "rHKot9LZYDkt",
        "outputId": "9c78e30a-45cc-40e8-f625-572d92c1e977"
      },
      "source": [
        "#DISPLAY MAIN PAGE#\n",
        "print(\"This vending machine only offers Milo, Coffee, and Tea\")"
      ],
      "execution_count": null,
      "outputs": [
        {
          "output_type": "stream",
          "text": [
            "This vending machine only offers Milo, Coffee, and Tea\n"
          ],
          "name": "stdout"
        }
      ]
    },
    {
      "cell_type": "code",
      "metadata": {
        "colab": {
          "background_save": true,
          "base_uri": "https://localhost:8080/"
        },
        "id": "9hjhuY0Z8KVY",
        "outputId": "cb6b5953-5f0f-468e-ab20-ae064ae1c6e9"
      },
      "source": [
        "#DISPLAY SELECTIONS#\n",
        "drinks = [\"Milo(1)\",\"Coffee(2)\", \"Tea(3)\"]\n",
        "print(drinks)\n",
        "\n",
        "\n",
        "\n",
        "# User to make input #\n",
        "press1 = int(input(\"Enter Your Drinks Number: \"))   # User input for drink\n",
        "CM = float(1.50)                                    # Cold Milo\n",
        "HM = float(1.00)                                    # Hot Milo\n",
        "CC = float(1.50)                                    # Cold Coffee\n",
        "HC = float(1.00)                                    # Hot Coffee\n",
        "CT = float(1.50)                                    # Cold Tea\n",
        "HT = float(1.00)                                    # Hot Tea\n",
        "h = \"Hot\"                                           # Hot Drink\n",
        "c = \"Cold\"                                          # Cold Drink\n",
        "pay_out= \"Now, Please pay. Thank you.\"\n",
        "\n",
        "\n",
        "if press1 == 1 :         # If the user choose Milo\n",
        "    print(\"Good! You choose Milo. Please choose your preference. Press 7 for Hot, Press 8 for Cold\")\n",
        "    press2 = int(input(\"Enter Your Selection: \"))  # User input for Hot or Cold\n",
        "    if press2 == 7:\n",
        "        print(\"Wow!!! You choose \" + h + \". The fee is RM \" + str(HM))\n",
        "        print(\"Thank you!\")\n",
        "    elif press2 == 8:\n",
        "        print(\"Okay!!! You choose \" + c + \". The fee is RM \" + str(CM))\n",
        "        print(pay_out)\n",
        "    else:\n",
        "        print(\"Erm, please don't annoy me. Choose you preference by pressing no. 7 or 8\")\n",
        "\n",
        "\n",
        "elif press1 == 2:       # If the user choose Coffee\n",
        "    print(\"Good! You choose Coffee. Please choose your preference. Press 7 for Hot, Press 8 for Cold\")\n",
        "    press2 = int(input(\"Enter Your Selection: \"))  # User input for Hot or Cold\n",
        "    if press2 == 7:\n",
        "        print(\"Wow!!! You choose \" + h + \". The fee is RM \" + str(HC))\n",
        "        print(pay_out)\n",
        "    elif press2 == 8:\n",
        "        print(\"Okay!!! You choose \" + c + \". The fee is RM \" + str(CC))\n",
        "        print(pay_out)\n",
        "    else:\n",
        "        print(\"Erm, please don't annoy me. Choose you preference by pressing no. 7 or 8\")\n",
        "\n",
        "\n",
        "elif press1 == 3:       # If the user choose Tea\n",
        "    print(\"Good! You choose Tea. Please choose your preference. Press 7 for Hot, Press 8 for Cold\")\n",
        "    press2 = int(input(\"Enter Your Selection: \"))  # User input for Hot or Cold\n",
        "    if press2 == 7:\n",
        "        print(\"Wow!!! You choose \" + h + \". The fee is RM \" + str(HT))\n",
        "        print(pay_out)\n",
        "    elif press2 == 8:\n",
        "        print(\"Okay!!! You choose \" + c + \". The fee is RM \" + str(CT))\n",
        "        print(pay_out)\n",
        "    else:\n",
        "        print(\"Erm, please don't annoy me. Choose you preference by pressing no. 7 or 8\")\n",
        "        print(pay_out)\n",
        "\n",
        "\n",
        "\n",
        "else:               # If the user enter wrong number\n",
        "    print(\"Please don't annoy me. Please Make Your Selection by entering no. 1, 2, or 3\")\n",
        "    print(\"Select 0 to Return\")\n"
      ],
      "execution_count": null,
      "outputs": [
        {
          "output_type": "stream",
          "text": [
            "Welcome to the Python Vending Machine.\n",
            "How much money would you want to insert?\n"
          ],
          "name": "stdout"
        }
      ]
    }
  ]
}